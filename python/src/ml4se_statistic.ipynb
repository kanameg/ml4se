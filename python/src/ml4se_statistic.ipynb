{
 "metadata": {
  "language_info": {
   "codemirror_mode": {
    "name": "ipython",
    "version": 3
   },
   "file_extension": ".py",
   "mimetype": "text/x-python",
   "name": "python",
   "nbconvert_exporter": "python",
   "pygments_lexer": "ipython3",
   "version": "3.8.6"
  },
  "orig_nbformat": 2,
  "kernelspec": {
   "name": "python3",
   "display_name": "Python 3.8.6 64-bit ('3.8.6': pyenv)",
   "metadata": {
    "interpreter": {
     "hash": "def1443cd7b0494ffc099209d4c7259e5a8304e131c4a6b9a38e7324fcb0905b"
    }
   }
  }
 },
 "nbformat": 4,
 "nbformat_minor": 2,
 "cells": [
  {
   "source": [
    "## 統計用語の勉強"
   ],
   "cell_type": "markdown",
   "metadata": {}
  },
  {
   "source": [
    "## 不偏性とは\n",
    "とある推定値が同じ観測数で何度も何度も繰り返し、その平均をとっていくと、真の母数に近づくことを示す。\n",
    "\n",
    "## 一致性とは\n",
    "とある推定値が一回の推定でも、でその観測数を大きくすれば、真の母数に近づくことを示す。\n",
    "\n"
   ],
   "cell_type": "markdown",
   "metadata": {}
  },
  {
   "source": [
    "標本値を$\\{X\\}_{i=1}^N$とするとき、標本平均値を$\\bar{X}$とすると、標本分散は以下で定義される。\n",
    "$$\n",
    "\\frac{1}{N} \\sum_{i=1}^{N} (X_i - \\bar{X})^2\n",
    "$$\n"
   ],
   "cell_type": "markdown",
   "metadata": {}
  },
  {
   "cell_type": "code",
   "execution_count": null,
   "metadata": {},
   "outputs": [],
   "source": [
    "import numpy as np\n",
    "import matplotlib.pyplot as plt\n",
    "import pandas as pd\n",
    "import seaborn as sns"
   ]
  },
  {
   "source": [
    "## 標本分散の一致性の確認"
   ],
   "cell_type": "markdown",
   "metadata": {}
  },
  {
   "cell_type": "code",
   "execution_count": null,
   "metadata": {
    "tags": []
   },
   "outputs": [],
   "source": [
    "np.random.seed(42)\n",
    "\n",
    "KMAX = 1000\n",
    "\n",
    "mu = 10\n",
    "std = 5\n",
    "\n",
    "v = pd.DataFrame(columns=['x', 'v'])\n",
    "\n",
    "for k in range(1, KMAX):\n",
    "    r = np.random.normal(mu, std, k)\n",
    "    v = np.var(r, ddof=0)\n",
    "    s = pd.Series([k, v], index=['x', 'v'])\n",
    "    v = dfv.append(s, ignore_index=True)\n",
    "plt.figure(figsize=(10, 3.5))\n",
    "plt.axhline(25, ls = '--', color = 'red', label = True)\n",
    "sns.lineplot(data=v, x='x', y='v')\n",
    "plt.show()\n",
    "\n"
   ]
  },
  {
   "source": [
    "## 標本分散に不偏性がないことの確認"
   ],
   "cell_type": "markdown",
   "metadata": {}
  },
  {
   "cell_type": "code",
   "execution_count": null,
   "metadata": {
    "tags": []
   },
   "outputs": [],
   "source": [
    "np.random.seed(42)\n",
    "\n",
    "NMAX = 200\n",
    "K = 1000\n",
    "\n",
    "mu = 10\n",
    "std = 5\n",
    "\n",
    "ev = []\n",
    "x = []\n",
    "g = pd.DataFrame(columns=['x', 'ev', 'bias'])\n",
    "for n in range(10, NMAX):\n",
    "    v = []\n",
    "    for i in range(K):\n",
    "        r = np.random.normal(mu, std, n)\n",
    "        v.append(np.var(r, ddof = 0)) # ddof=0で標本分散\n",
    "    ev = np.mean(v)\n",
    "    bias = 25 -1 / n * 25\n",
    "    s = pd.Series([n, ev, bias], index=['x', 'ev', 'bias'])\n",
    "    g = g.append(s, ignore_index=True)\n",
    "\n",
    "plt.figure(figsize=(10, 3.5))\n",
    "plt.axhline(25, ls = '--', color = 'red', label = True)\n",
    "sns.lineplot(data=g, x='x', y='ev')\n",
    "sns.lineplot(data=g, x='x', y='bias')\n",
    "plt.show()"
   ]
  },
  {
   "source": [
    "実際に標本分散の平均を計算すると\n",
    "$$\n",
    "E[\\frac{1}{N} \\sum_{i=1}^{N} (X_i - \\bar{X})^2] = \\frac{N-1}{N}\\sigma^2 \\\\\n",
    "= \\sigma^2 - \\frac{1}{N} \\sigma^2\n",
    "$$"
   ],
   "cell_type": "markdown",
   "metadata": {}
  },
  {
   "cell_type": "code",
   "execution_count": null,
   "metadata": {},
   "outputs": [],
   "source": [
    "x = np.random.normal(10, 5, 10)\n",
    "print(x)"
   ]
  },
  {
   "cell_type": "code",
   "execution_count": null,
   "metadata": {},
   "outputs": [],
   "source": [
    "df = pd.DataFrame({\"A\": [1, 2, 3], \"B\": [1, 2, 3]})\n",
    "df"
   ]
  },
  {
   "cell_type": "code",
   "execution_count": null,
   "metadata": {},
   "outputs": [],
   "source": [
    "df2 = pd.DataFrame({\"A\": [4, 5, 6], \"B\": [4, 5, 6]})\n",
    "ret = df.append(df2, ignore_index=True)\n",
    "ret"
   ]
  }
 ]
}