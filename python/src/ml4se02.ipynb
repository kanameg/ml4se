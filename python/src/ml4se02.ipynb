{
 "metadata": {
  "language_info": {
   "codemirror_mode": {
    "name": "ipython",
    "version": 3
   },
   "file_extension": ".py",
   "mimetype": "text/x-python",
   "name": "python",
   "nbconvert_exporter": "python",
   "pygments_lexer": "ipython3",
   "version": "3.8.6"
  },
  "orig_nbformat": 2,
  "kernelspec": {
   "name": "python3",
   "display_name": "Python 3.8.6 64-bit ('3.8.6': pyenv)",
   "metadata": {
    "interpreter": {
     "hash": "def1443cd7b0494ffc099209d4c7259e5a8304e131c4a6b9a38e7324fcb0905b"
    }
   }
  }
 },
 "nbformat": 4,
 "nbformat_minor": 2,
 "cells": [
  {
   "source": [
    "## 第2章 最小二乗法"
   ],
   "cell_type": "markdown",
   "metadata": {}
  },
  {
   "cell_type": "code",
   "execution_count": null,
   "metadata": {},
   "outputs": [],
   "source": [
    "import numpy as np\n",
    "import pandas as pd\n",
    "from pandas import Series\n",
    "from pandas import DataFrame\n",
    "import seaborn as sns\n",
    "import matplotlib.pyplot as plt\n",
    "%matplotlib inline"
   ]
  },
  {
   "cell_type": "code",
   "execution_count": null,
   "metadata": {},
   "outputs": [],
   "source": [
    "N = 10\n",
    "M = [0, 1, 2, 3, 4, 5, 6, 7, 8, 9]"
   ]
  },
  {
   "cell_type": "code",
   "execution_count": null,
   "metadata": {},
   "outputs": [],
   "source": [
    "\"\"\"\n",
    "データセットの作成\n",
    "\"\"\"\n",
    "def create_dataset(n):\n",
    "    dataset = pd.DataFrame(columns={'x', 'y'})\n",
    "    for i in range(n):\n",
    "        x = float(i)/float(n - 1)\n",
    "        y = np.sin(2 * np.pi * x) + np.random.normal(scale=0.3)\n",
    "        dataset = dataset.append(pd.Series([x, y], index=['x', 'y']), ignore_index=True)\n",
    "\n",
    "    return dataset"
   ]
  },
  {
   "cell_type": "code",
   "execution_count": null,
   "metadata": {},
   "outputs": [],
   "source": [
    "dataset = create_dataset(10)\n",
    "sns.scatterplot(data=dataset, x='x', y='y')\n",
    "print(dataset)"
   ]
  },
  {
   "source": [
    "分析対象のトレーニングセット$\\{(x_n, t_n)\\}_{n=1}^{N}$が与えられたとするときに。\n",
    "目的変数$t$を推測するために求める$M$次多項式$f(x)$を決定する。各次数の係数を$\\{w_m\\}_{m=1}^M$を求める。\n",
    "$$\n",
    " f(x) = \\sum_{m=0}^{M}w_mx^m\n",
    "$$\n",
    "\n",
    "係数を求める指標として、次式の二乗誤差を最小にするという条件を持ちる。\n",
    "$$\n",
    "E_D = \\frac{1}{2} \\sum_{n=1}^N\\{f(x_n)-t_n\\}^2\n",
    "$$\n",
    "\n",
    "係数の個数$M+1$がトレーニングセットの個数$N$以上であれば、つまり$M + 1 \\le N$であれば、係数は次式で求められる。\n",
    "$$\n",
    "\\boldsymbol{w} = (\\Phi^\\top\\Phi)^{-1}\\Phi^\\top t\n",
    "$$"
   ],
   "cell_type": "markdown",
   "metadata": {}
  },
  {
   "cell_type": "code",
   "execution_count": null,
   "metadata": {},
   "outputs": [],
   "source": [
    "# datasetの関数fに対する最小二乗誤差を求める\n",
    "def rms_error(dataset, f):\n",
    "    error = 0.0\n",
    "    for i, d in dataset.iterrows():\n",
    "        x, y = d.x, d.y\n",
    "        error += 0.5 * (y - f(x))**2\n",
    "    \n",
    "    return np.sqrt(2 * error / len(dataset))"
   ]
  },
  {
   "cell_type": "code",
   "execution_count": null,
   "metadata": {},
   "outputs": [],
   "source": [
    "\"\"\"\n",
    "最小二乗法で解を求める\n",
    "dataeset: \n",
    "m: 次数\n",
    "\"\"\"\n",
    "def resolve(dataset, m):\n",
    "    t = dataset.y\n",
    "    phi = DataFrame()\n",
    "    for i in range(0, m + 1):\n",
    "        p =dataset.x**i\n",
    "        phi = pd.concat([phi, p], axis=1)\n",
    "    tmp = np.linalg.inv(np.dot(phi.T, phi))\n",
    "    ws = np.dot(np.dot(tmp, phi.T), t)\n",
    "\n",
    "    def f(x):\n",
    "        y = 0\n",
    "        for i, w in enumerate(ws):\n",
    "            y += w * (x**i)\n",
    "        return y\n",
    "    \n",
    "    return (f, ws)\n"
   ]
  },
  {
   "cell_type": "code",
   "execution_count": null,
   "metadata": {},
   "outputs": [],
   "source": [
    "train_set = create_dataset(N)\n",
    "test_set = create_dataset(N)\n",
    "df_ws = DataFrame()\n",
    "\n",
    "for c, m in enumerate(M):\n",
    "    sns.scatterplot(data=train_set, x='x', y='y')\n",
    "    f, ws = resolve(train_set, m)\n",
    "    df_ws = df_ws.append(Series(ws,name=\"M=%d\" % m))\n",
    "\n",
    "    # 正解と予測曲線を表示\n",
    "    line = DataFrame()\n",
    "    line['x'] = np.linspace(0, 1, 101)\n",
    "    line['t'] = np.sin(2 * np.pi * line['x'])\n",
    "    line['y'] = f(line['x'])\n",
    "    t = sns.lineplot(data=line, x='x', y='t')\n",
    "    t.lines[0].set_linestyle('--')\n",
    "    sns.lineplot(data=line, x='x', y='y')\n",
    "    plt.show()\n",
    "\n",
    "print(df_ws)"
   ]
  },
  {
   "cell_type": "code",
   "execution_count": null,
   "metadata": {},
   "outputs": [],
   "source": [
    "\"\"\"\n",
    "トレーニングセットとテストセットでRMSを求める\n",
    "\"\"\"\n",
    "rms_df = DataFrame(columns=['Train', 'Test'])\n",
    "for m in range(0, 10):\n",
    "    f, ws = resolve(train_set, m)\n",
    "    train_error = rms_error(train_set, f)\n",
    "    test_error = rms_error(test_set, f)\n",
    "    rms_df = rms_df.append(Series([train_error, test_error], index=['Train', 'Test']), ignore_index=True)\n",
    "\n",
    "print(rms_df)"
   ]
  },
  {
   "cell_type": "code",
   "execution_count": null,
   "metadata": {},
   "outputs": [],
   "source": []
  }
 ]
}