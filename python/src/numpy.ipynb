{
 "cells": [
  {
   "cell_type": "markdown",
   "source": [
    "## Numpyの学習"
   ],
   "metadata": {}
  },
  {
   "cell_type": "code",
   "execution_count": null,
   "source": [
    "import pandas as pd\n",
    "import numpy as np"
   ],
   "outputs": [],
   "metadata": {}
  },
  {
   "cell_type": "code",
   "execution_count": null,
   "source": [
    "list = [1, 2, 3, 4]\n",
    "print(list)\n",
    "\n",
    "nd_array = np.asarray(list)\n",
    "print(type(nd_array))\n",
    "print(nd_array)"
   ],
   "outputs": [],
   "metadata": {}
  },
  {
   "cell_type": "code",
   "execution_count": null,
   "source": [
    "array = [[1, 2, 3],\n",
    "[4, 5, 6],\n",
    "[7, 8, 9]]\n",
    "print(array)\n",
    "\n",
    "nd_array = np.asarray(array)\n",
    "print(type(nd_array))\n",
    "print(nd_array)\n",
    "print(nd_array[0])"
   ],
   "outputs": [],
   "metadata": {}
  },
  {
   "cell_type": "markdown",
   "source": [
    "dtypeを使って事前に型を指定することも可能"
   ],
   "metadata": {}
  },
  {
   "cell_type": "code",
   "execution_count": null,
   "source": [
    "array = [[1, 2, 3],\n",
    "[4, 5, 6],\n",
    "[7, 8, 9]]\n",
    "print(np.asarray(array, dtype=np.int64))\n",
    "print(np.asarray(array, dtype=np.int64).tolist())\n",
    "print(np.asarray(array, dtype=np.float64))\n",
    "print(np.asarray(array, dtype=np.float64).tolist())\n"
   ],
   "outputs": [],
   "metadata": {}
  },
  {
   "cell_type": "markdown",
   "source": [
    "#### ndarrayの構造確認"
   ],
   "metadata": {}
  },
  {
   "cell_type": "code",
   "execution_count": null,
   "source": [
    "print('3次元、2行、4列、int型')\n",
    "nda = np.zeros((3, 2, 4), dtype=np.int64)\n",
    "print(nda)\n",
    "print('.' * 80)\n",
    "print('次元:{}'.format(nda.ndim))\n",
    "print('要素数:{}'.format(nda.size))\n",
    "print('次元ごとの要素数:{}'.format(nda.shape))\n",
    "print('バイト数:{}'.format(nda.nbytes))\n",
    "print('dtype型:{}'.format(nda.dtype))"
   ],
   "outputs": [],
   "metadata": {}
  },
  {
   "cell_type": "markdown",
   "source": [
    "#### 行、列の取り出し"
   ],
   "metadata": {}
  },
  {
   "cell_type": "code",
   "execution_count": null,
   "source": [
    "list = [[1,2,3,4,5],\n",
    "        [6,7,8,9,10],\n",
    "        [11,12,13,14,15],\n",
    "        [16,17,18,19,20],\n",
    "        [21,22,23,24,25]]\n",
    "\n",
    "nda = np.asarray(list)\n",
    "print(nda)\n",
    "print('.' * 80)\n",
    "print('1行: {}'.format(nda[0,:]))\n",
    "print('1列: {}'.format(nda[:,0]))\n",
    "print('5行: {}'.format(nda[4,:]))\n",
    "print('5列: {}'.format(nda[:,4]))\n",
    "print('3行3列: {}'.format(nda[2,2]))"
   ],
   "outputs": [],
   "metadata": {}
  },
  {
   "cell_type": "markdown",
   "source": [
    "#### 数値演算"
   ],
   "metadata": {}
  },
  {
   "cell_type": "code",
   "execution_count": null,
   "source": [
    "a = np.asarray([1, 2, 3, 4, 5])\n",
    "b = np.asarray([6, 7, 8, 9, 10])\n",
    "print('.' * 80)\n",
    "print('add: {}'.format(np.add(a, b)))\n",
    "print('subtract: {}'.format(np.subtract(a, b)))\n",
    "print('multiply: {}'.format(np.multiply(a, b)))\n",
    "print('divide: {}'.format(np.divide(a, b)))\n",
    "print('mod: {}'.format(np.mod(b, a)))\n",
    "print('power: {}'.format(np.power(a, b)))\n",
    "print('sin: {}'.format(np.sin(b)))\n"
   ],
   "outputs": [],
   "metadata": {}
  },
  {
   "cell_type": "markdown",
   "source": [
    "#### ファイル入出力"
   ],
   "metadata": {}
  },
  {
   "cell_type": "code",
   "execution_count": null,
   "source": [
    "list = [[1,2,3,4,5],\n",
    "        [6,7,8,9,10],\n",
    "        [11,12,13,14,15],\n",
    "        [16,17,18,19,20],\n",
    "        [21,22,23,24,25]]\n",
    "\n",
    "nda = np.asarray(list)\n",
    "\n",
    "np.save('nda.npy', nda)\n",
    "nda_loaded = np.load('nda.npy')\n",
    "print(nda_loaded)\n",
    "\n",
    "np.savetxt('ndatext.npy', nda)\n",
    "nda_loaded = np.loadtxt('ndatext.npy')\n",
    "print(nda_loaded)\n"
   ],
   "outputs": [],
   "metadata": {}
  }
 ],
 "metadata": {
  "orig_nbformat": 4,
  "language_info": {
   "name": "python",
   "version": "3.8.6",
   "mimetype": "text/x-python",
   "codemirror_mode": {
    "name": "ipython",
    "version": 3
   },
   "pygments_lexer": "ipython3",
   "nbconvert_exporter": "python",
   "file_extension": ".py"
  },
  "kernelspec": {
   "name": "python3",
   "display_name": "Python 3.8.6 64-bit ('3.8.6': pyenv)"
  },
  "interpreter": {
   "hash": "def1443cd7b0494ffc099209d4c7259e5a8304e131c4a6b9a38e7324fcb0905b"
  }
 },
 "nbformat": 4,
 "nbformat_minor": 2
}